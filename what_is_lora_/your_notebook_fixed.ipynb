{
 "cells": [
  {
   "cell_type": "code",
   "execution_count": null,
   "metadata": {
    "id": "ikESqz7MiYLl"
   },
   "outputs": [],
   "source": [
    "! pip install -U bitsandbytes\n",
    "! pip install -U accelerate transformers"
   ]
  },
  {
   "cell_type": "code",
   "execution_count": null,
   "metadata": {
    "colab": {
     "base_uri": "https://localhost:8080/",
     "height": 17,
     "referenced_widgets": [
      "5fffc8ebfe634533adea5875373e69fb",
      "a813d61bc19d470f88fbe7cfe424f7f8",
      "6d376d0b0b034ee0b8280ba76594e8f6",
      "a26b141562b248e593c863b9a026db69",
      "4cb92556e5614f148d6bc25f18c74fff",
      "fb0c099b0b164b9ba80a57fd08d91ebd",
      "0bc33a4f8ba54fb3a3c946dbd3d3280a",
      "483193247ad744d88558c7e16e7d03f8",
      "eeb4c0c1537e4e109c685eea1fd48856",
      "0cbb75df1391436ab89acf36cf269339",
      "d5600dada0004c81ad77a8def3cbd105",
      "004209b9362142a8899a622f61577ced",
      "8492fd84ce094a339722347906dd1d50",
      "a13e1945c7744cb78a835b890745feb4",
      "28ba632959204714a73c37cea74d063a",
      "5b3ad2c0d09e4cbe984d91e49f49cfde",
      "8b38013d4dba4725bcc4fbb1e96799fd",
      "079ff17e7dd4403fa421299984005ba0",
      "73c65dbdd35f41d684cd5a8b82ab1d78",
      "dcd83852aaf4458d8911c41cc0711c55"
     ]
    },
    "id": "yZvCiSE8grUQ",
    "outputId": "bf327879-c439-427f-87d4-cbb7083ff9dd"
   },
   "outputs": [
    {
     "data": {
      "application/vnd.jupyter.widget-view+json": {
       "model_id": "5fffc8ebfe634533adea5875373e69fb",
       "version_major": 2,
       "version_minor": 0
      },
      "text/plain": [
       "VBox(children=(HTML(value='<center> <img\\nsrc=https://huggingface.co/front/assets/huggingface_logo-noborder.sv…"
      ]
     },
     "metadata": {},
     "output_type": "display_data"
    }
   ],
   "source": [
    "from huggingface_hub import login\n",
    "login()"
   ]
  },
  {
   "cell_type": "code",
   "execution_count": null,
   "metadata": {
    "id": "uLL6f-5rgBtK"
   },
   "outputs": [],
   "source": [
    "from transformers import AutoTokenizer, AutoModelForCausalLM, BitsAndBytesConfig, AutoModelForSequenceClassification\n",
    "from datasets import load_dataset\n",
    "import torch"
   ]
  },
  {
   "cell_type": "code",
   "execution_count": null,
   "metadata": {
    "id": "bf--I24GgMwm"
   },
   "outputs": [],
   "source": [
    "model_name = \"google/gemma-2b-it\"\n",
    "token = \"YOUR TOKEN\"\n",
    "tokenizer = AutoTokenizer.from_pretrained(model_name, token =token)\n",
    "tokenizer.pad_token = tokenizer.eos_token\n"
   ]
  },
  {
   "cell_type": "code",
   "execution_count": null,
   "metadata": {
    "colab": {
     "base_uri": "https://localhost:8080/",
     "height": 246,
     "referenced_widgets": [
      "323f4699cd554e868f089da9f1a8ba67",
      "bde6919f25474d4c80f13819bb74b18e",
      "a5edb5a0007b411d84b4bcd07defdb46",
      "25a03548c77b44ceabe51f907b268e6a",
      "754f855eee874399a4f0228a82392a9a",
      "a51dcfa0fc0d49c491217787bbeb04e6",
      "3a1857fe99e24b2991f20c9b3c91ca3b",
      "617a8572f1e84c69bea73c2fbc0d28a8",
      "0189eeed6e93485aa60ec44d73845fa0",
      "b10d6d51d118449ba6ffa8dcd0bc289e",
      "f353969ad85f491fb0d295a79a64a769",
      "0f5fa05101c5486fad81341562e3dfdd",
      "b40a6ec62f23410594adaf49f5ea75d4",
      "1a0bb56e5adb4b65876d423be649889c",
      "e8a8667a3c02469f848f0e24fa7f9969",
      "540fab30d8d34ed58a44bf2ff216f623",
      "ca79f44905f74cd1a7a06366fe9a9b2b",
      "d74f4af745e140809c15fda8f5f291c8",
      "4b18f3206a9a4cd0989fa3113a711584",
      "dfeaaa3b0d4c481397d1198d40fae38f",
      "1e3eb22134094f9886cc81a872c6d406",
      "c0597a423c434cebaf0adfbe4c7fad6c",
      "c2ac15887d634569a192279af202a9fe",
      "5ca7ee6addda469bbf2c5c80fdfac136",
      "65c04c4021b54f41b2e018681f947f1b",
      "61179eaec3464cf9823a9e79697eedc1",
      "6b46c096cb454d44a909aeb99e97802a",
      "b4e144029a34417f9c4fc982e4139c19",
      "19e2e78c13844e06ba272f9c70a016de",
      "06d804923bcf4443aa5762379acb1e5b",
      "27fcc587e841431ca17e194089ed82e4",
      "390311c98f9c4cc49a0a1d3d79ae9388",
      "1a7f369eb7ae40fea1ce3baffe830686",
      "a59298725e7141b2994da3afe3aa3fd3",
      "f5507cd7d0664212a8e7f2fd0f9c6048",
      "644881660e474d9b950bd8b574961133",
      "b7cc7adb303b48d29eac70af8e0d2aaa",
      "3802d967218d4e10a2a1f7e4808486e3",
      "4eae4168338b4391868b4fb4106a98f5",
      "0309f3a2ad7f4e9686de304eff6bbd5c",
      "81a0b4e2b48f475a851931af107a370b",
      "b2e15bd606b94c4b8809db874585396b",
      "ab00a64875bb438fb7396fa256ea49e1",
      "a845bcadc90f4407b39d71453c055fca",
      "7433e0a088ee415b82f71513df5e26e8",
      "9c13593bcbf745e3a3b53e1c1e90227f",
      "97a9770dc53c464bba43b78e80064c76",
      "ffc4131e37894122ad10cc11dfa18e88",
      "bc5baf5fdf3747449a718c06c88029b1",
      "dc95a951eae94ec7818c30e299e25231",
      "97fcc329527a43a0908097c866b4af1a",
      "b21877ba72404357b40d7df88fdd1c37",
      "1cc935b54801484aac3db9766ba2ea5a",
      "2ebf3e44311741ef87499682acf5befc",
      "3d1749927d034190bf0c7d0204385d72",
      "74992251d32e4b448a0773b7ce2a0b4d",
      "cc125ef47193471aafc517dac9297a89",
      "5ca1da468a024dd1af062e16c0f54b9f",
      "d56bc5f82c1a4024ac20d56b3a15bb65",
      "ef00a6ee9223411c8100177198f5b113",
      "24cb0f8dd9104d71b2cba9620f236355",
      "bd067aad421945d3afb20d8e92b2942f",
      "fd59e14abd89489eb41dc692589a4be6",
      "b007851cdd364e1fad71a00f967c451a",
      "1e19896de62e45369fc345c8865887e8",
      "377eaf79f0ed4f7788680a10f270f8d6"
     ]
    },
    "id": "E2QIB3rPgPtD",
    "outputId": "1ded673f-353c-4775-d2c5-c5b24ba7c893"
   },
   "outputs": [
    {
     "name": "stderr",
     "output_type": "stream",
     "text": [
      "The `load_in_4bit` and `load_in_8bit` arguments are deprecated and will be removed in the future versions. Please, pass a `BitsAndBytesConfig` object in `quantization_config` argument instead.\n"
     ]
    },
    {
     "data": {
      "application/vnd.jupyter.widget-view+json": {
       "model_id": "323f4699cd554e868f089da9f1a8ba67",
       "version_major": 2,
       "version_minor": 0
      },
      "text/plain": [
       "model.safetensors.index.json:   0%|          | 0.00/13.5k [00:00<?, ?B/s]"
      ]
     },
     "metadata": {},
     "output_type": "display_data"
    },
    {
     "data": {
      "application/vnd.jupyter.widget-view+json": {
       "model_id": "0f5fa05101c5486fad81341562e3dfdd",
       "version_major": 2,
       "version_minor": 0
      },
      "text/plain": [
       "Fetching 2 files:   0%|          | 0/2 [00:00<?, ?it/s]"
      ]
     },
     "metadata": {},
     "output_type": "display_data"
    },
    {
     "data": {
      "application/vnd.jupyter.widget-view+json": {
       "model_id": "c2ac15887d634569a192279af202a9fe",
       "version_major": 2,
       "version_minor": 0
      },
      "text/plain": [
       "model-00002-of-00002.safetensors:   0%|          | 0.00/67.1M [00:00<?, ?B/s]"
      ]
     },
     "metadata": {},
     "output_type": "display_data"
    },
    {
     "data": {
      "application/vnd.jupyter.widget-view+json": {
       "model_id": "a59298725e7141b2994da3afe3aa3fd3",
       "version_major": 2,
       "version_minor": 0
      },
      "text/plain": [
       "model-00001-of-00002.safetensors:   0%|          | 0.00/4.95G [00:00<?, ?B/s]"
      ]
     },
     "metadata": {},
     "output_type": "display_data"
    },
    {
     "data": {
      "application/vnd.jupyter.widget-view+json": {
       "model_id": "7433e0a088ee415b82f71513df5e26e8",
       "version_major": 2,
       "version_minor": 0
      },
      "text/plain": [
       "Loading checkpoint shards:   0%|          | 0/2 [00:00<?, ?it/s]"
      ]
     },
     "metadata": {},
     "output_type": "display_data"
    },
    {
     "data": {
      "application/vnd.jupyter.widget-view+json": {
       "model_id": "74992251d32e4b448a0773b7ce2a0b4d",
       "version_major": 2,
       "version_minor": 0
      },
      "text/plain": [
       "generation_config.json:   0%|          | 0.00/137 [00:00<?, ?B/s]"
      ]
     },
     "metadata": {},
     "output_type": "display_data"
    }
   ],
   "source": [
    "model = AutoModelForCausalLM.from_pretrained(\n",
    "    model_name,\n",
    "    device_map=\"auto\",\n",
    "    torch_dtype=torch.float16,\n",
    "    load_in_4bit=True,\n",
    "    token=\"YOUR TOKEN\"\n",
    ")"
   ]
  },
  {
   "cell_type": "code",
   "execution_count": null,
   "metadata": {
    "colab": {
     "base_uri": "https://localhost:8080/"
    },
    "id": "MB6bFq-zgWUO",
    "outputId": "59afe522-b208-4077-8bf3-8a9b69c68345"
   },
   "outputs": [
    {
     "name": "stdout",
     "output_type": "stream",
     "text": [
      "tell  me a scary  story about a young woman named Sarah who was stalked by a stalker named John.\n",
      "\n",
      "**Sarah's Nightmare**\n",
      "\n",
      "Sarah was a young woman with a vibrant spirit and a heart full of kindness. But her life took a sinister turn when she became the target of a relentless stalker named John. John's obsession with Sarah was as terrifying as it was captivating. He would stalk her through the streets, break into her apartment, and leave cryptic messages that sent chills down her spine.\n",
      "\n",
      "One fateful night\n"
     ]
    }
   ],
   "source": [
    "prompt = \"tell  me a scary  story\"\n",
    "inputs = tokenizer(prompt, return_tensors=\"pt\").to(model.device)\n",
    "outputs = model.generate(**inputs, max_new_tokens=100)\n",
    "print(tokenizer.decode(outputs[0], skip_special_tokens=True))"
   ]
  },
  {
   "cell_type": "code",
   "execution_count": null,
   "metadata": {
    "colab": {
     "base_uri": "https://localhost:8080/",
     "height": 113,
     "referenced_widgets": [
      "03de376317dd4fb99ae4ff54fa0d24d2",
      "e459845f0d074a7cbed5da957145d5cf",
      "e20c6c2c53314c769cc4a3aa1c6f84de",
      "82180feec19f4c41a5d745c52cba1bc4",
      "d7abdd951a01448b8709633030a303f1",
      "cfc98f4b6334412ab63bac759b256059",
      "a9e469da5a984440b08befc241fedde5",
      "8d908c2a91fd407fb9bee935fa859789",
      "3719463344e04e088803456f01fdf02d",
      "4b173e50a12447c0823239305d6ee3ba",
      "fd55fe327bc1450cb70bfc982778281e",
      "320e7b30a0ed4b96aee6a269d79b6864",
      "4eca96e2fe38430480312449025b1155",
      "dfe9498d50de458aa629aa06051464ab",
      "e871e87658b84f14b9df8f1f89901ecb",
      "3075adf4971740e6b37093bfa803df97",
      "027e173cd61545bbab8f27e6a825e282",
      "d02e32091d3b495c9f247baaa0f3ffa3",
      "d86336f73efb43c3a63a18eec6589258",
      "e5f2378edfbc425f8d3d728d3fa4c826",
      "0ae6d34858cf45f4b0efc18c2307fd9b",
      "c83707d292f7462c80d8a26a5efd31ad",
      "f3a1c2a4b6964459bf0019a304d658cb",
      "37a6db8035de4860b45f5b518d030553",
      "8c0df21a6c5f41308663132ddce4f059",
      "5fcda87ae4be41d49396ae3ec77fe2f5",
      "95b7b7f7650a4e49b27e7d16a1adf423",
      "a15c39e64ca8494b9f8ded93d45d6d9e",
      "9165215f567d4d3d9403f8d1792abab1",
      "e32cba8a123041939deefa01884069ed",
      "9f896830b9ad4dd29527fe175ffc65a2",
      "cca69a9fc0894d0695fca004350a024b",
      "0ac97387aacf47e791b0beb764455c34"
     ]
    },
    "id": "DXsu2JiWeD3S",
    "outputId": "2f915a35-4621-47af-fe82-358787b8a375"
   },
   "outputs": [],
   "source": [
    "dataset = load_dataset(\"yahma/alpaca-cleaned\", split=\"train[:1000]\")"
   ]
  },
  {
   "cell_type": "code",
   "execution_count": null,
   "metadata": {
    "colab": {
     "base_uri": "https://localhost:8080/",
     "height": 138
    },
    "id": "AEeVo_hLlg10",
    "outputId": "c800b758-ad9a-4ce7-e275-67dbae7652a1"
   },
   "outputs": [
    {
     "data": {
      "text/html": [
       "<div style=\"max-width:800px; border: 1px solid var(--colab-border-color);\"><style>\n",
       "      pre.function-repr-contents {\n",
       "        overflow-x: auto;\n",
       "        padding: 8px 12px;\n",
       "        max-height: 500px;\n",
       "      }\n",
       "\n",
       "      pre.function-repr-contents.function-repr-contents-collapsed {\n",
       "        cursor: pointer;\n",
       "        max-height: 100px;\n",
       "      }\n",
       "    </style>\n",
       "    <pre style=\"white-space: initial; background:\n",
       "         var(--colab-secondary-surface-color); padding: 8px 12px;\n",
       "         border-bottom: 1px solid var(--colab-border-color);\"><b>datasets.arrow_dataset.Dataset</b><br/>def __init__(arrow_table: Table, info: Optional[DatasetInfo]=None, split: Optional[NamedSplit]=None, indices_table: Optional[Table]=None, fingerprint: Optional[str]=None)</pre><pre class=\"function-repr-contents function-repr-contents-collapsed\" style=\"\"><a class=\"filepath\" style=\"display:none\" href=\"#\">/usr/local/lib/python3.11/dist-packages/datasets/arrow_dataset.py</a>A Dataset backed by an Arrow table.</pre>\n",
       "      <script>\n",
       "      if (google.colab.kernel.accessAllowed && google.colab.files && google.colab.files.view) {\n",
       "        for (const element of document.querySelectorAll('.filepath')) {\n",
       "          element.style.display = 'block'\n",
       "          element.onclick = (event) => {\n",
       "            event.preventDefault();\n",
       "            event.stopPropagation();\n",
       "            google.colab.files.view(element.textContent, 691);\n",
       "          };\n",
       "        }\n",
       "      }\n",
       "      for (const element of document.querySelectorAll('.function-repr-contents')) {\n",
       "        element.onclick = (event) => {\n",
       "          event.preventDefault();\n",
       "          event.stopPropagation();\n",
       "          element.classList.toggle('function-repr-contents-collapsed');\n",
       "        };\n",
       "      }\n",
       "      </script>\n",
       "      </div>"
      ],
      "text/plain": [
       "datasets.arrow_dataset.Dataset"
      ]
     },
     "execution_count": 14,
     "metadata": {},
     "output_type": "execute_result"
    }
   ],
   "source": [
    "type(dataset)"
   ]
  },
  {
   "cell_type": "code",
   "execution_count": null,
   "metadata": {
    "id": "YpxCCyYUmhtL"
   },
   "outputs": [],
   "source": [
    "import pandas as pd"
   ]
  },
  {
   "cell_type": "code",
   "execution_count": null,
   "metadata": {
    "id": "06dIqyKzlzg9"
   },
   "outputs": [],
   "source": [
    "df = pd.DataFrame(dataset)"
   ]
  },
  {
   "cell_type": "code",
   "execution_count": null,
   "metadata": {
    "colab": {
     "base_uri": "https://localhost:8080/",
     "height": 206
    },
    "id": "ohkQFRRLmWKo",
    "outputId": "fcab7fd4-f24f-4b1c-c73c-9b47ebf741be"
   },
   "outputs": [
    {
     "data": {
      "application/vnd.google.colaboratory.intrinsic+json": {
       "summary": "{\n  \"name\": \"df\",\n  \"rows\": 1000,\n  \"fields\": [\n    {\n      \"column\": \"output\",\n      \"properties\": {\n        \"dtype\": \"string\",\n        \"num_unique_values\": 999,\n        \"samples\": [\n          \"1. Incorporating nature: Having green walls or a small indoor garden can help create a calm and inviting atmosphere for meetings and conferences.\\n2. High-tech features: Installing smart boards, touch screens, and video conferencing systems can facilitate better communication and collaboration among participants.\\n3. Comfortable and ergonomic seating: Using adjustable chairs and tables can provide a comfortable setting for long meetings.\\n4. Adequate lighting: Natural light is ideal, but if that's not possible, installing ambient lighting that can be adjusted to the time of day or mood can help keep attendees focused and alert.\\n5. Colorful and themed decor: Adding some color and an attractive theme can create a vibrant and engaging atmosphere for brainstorming and discussion.\\n6. Soundproofing: Ensuring the conference room is well soundproofed can prevent interruptions and distractions from outside noise.\\n7. Small breakout areas: Having smaller areas within the conference room where participants can have one-on-one discussions or work in smaller groups can promote better communication and collaboration.\\n8. Refreshment station: Providing a small area for refreshments can keep attendees hydrated, energized, and focused throughout the meeting.\\n9. Artwork: Displaying artwork or inspirational quotes on the walls can spark creativity and provide visual interest.\\n10. Flexibility: Using modular furniture and movable partitions can allow for the conference room to be rearranged to suit the needs of different meetings and events.\",\n          \"The student wrote the thesis.\",\n          \"The hexadecimal number DB can be converted to an octal number by following the given steps:\\n\\nFirst, we can convert the hexadecimal number DB into a decimal number:\\n\\nD in hex is 13 in decimal \\nB in hex is 11 in decimal \\n\\nTherefore:\\nDB in hex = (13 \\u00d7 16\\u00b9) + (11 \\u00d7 16\\u2070)\\n= (208) + (11)\\n= 219\\n\\nNext, we convert the decimal number 219 into an octal number by continually dividing the decimal number by 8, recording the remainder, and using the quotient as the next dividend, until the quotient is zero:\\n\\n219 / 8 = 27 with a remainder of 3\\n27 / 8 = 3 with a remainder of 3\\n3 / 8 = 0 with a remainder of 3\\n\\nReading the remainders from bottom to top, we can see that the octal equivalent of the decimal number 219 is 333.\\n\\nTherefore, the hexadecimal number DB is equivalent to the octal number 333.\"\n        ],\n        \"semantic_type\": \"\",\n        \"description\": \"\"\n      }\n    },\n    {\n      \"column\": \"input\",\n      \"properties\": {\n        \"dtype\": \"category\",\n        \"num_unique_values\": 407,\n        \"samples\": [\n          \"s1 = \\u2018waterbottle\\u2019\\ns2 = \\u2018erbottlewat\\u2019\",\n          \"What is the most abundant gas in Earth's atmosphere?\\n\\nA. Methane\\nB. Oxygen\\nC. Nitrogen\\nD. Hydrogen\",\n          \"Why would you do that?\"\n        ],\n        \"semantic_type\": \"\",\n        \"description\": \"\"\n      }\n    },\n    {\n      \"column\": \"instruction\",\n      \"properties\": {\n        \"dtype\": \"string\",\n        \"num_unique_values\": 999,\n        \"samples\": [\n          \"Brainstorm creative ideas for designing a conference room.\",\n          \"Edit the following sentence to remove all passive voice.\",\n          \"Given the following conversation and a follow up question, rephrase the follow up question to be a standalone question.\\nChat History:\\nUser: What's the best way to learn a new language?\\nAI: The most effective way to learn a new language is by practicing regularly, immersing yourself in the language, using it in real-life situations, and studying with various resources like books, apps, and language partners.\\nUser: How long does it typically take to become fluent?\\nAI: That depends on several factors, including how often one is practicing the language, what resources are available and whether or not the person is immersed.\"\n        ],\n        \"semantic_type\": \"\",\n        \"description\": \"\"\n      }\n    }\n  ]\n}",
       "type": "dataframe",
       "variable_name": "df"
      },
      "text/html": [
       "\n",
       "  <div id=\"df-64566216-4eb3-4b57-aa1b-e14fb6ed97fd\" class=\"colab-df-container\">\n",
       "    <div>\n",
       "<style scoped>\n",
       "    .dataframe tbody tr th:only-of-type {\n",
       "        vertical-align: middle;\n",
       "    }\n",
       "\n",
       "    .dataframe tbody tr th {\n",
       "        vertical-align: top;\n",
       "    }\n",
       "\n",
       "    .dataframe thead th {\n",
       "        text-align: right;\n",
       "    }\n",
       "</style>\n",
       "<table border=\"1\" class=\"dataframe\">\n",
       "  <thead>\n",
       "    <tr style=\"text-align: right;\">\n",
       "      <th></th>\n",
       "      <th>output</th>\n",
       "      <th>input</th>\n",
       "      <th>instruction</th>\n",
       "    </tr>\n",
       "  </thead>\n",
       "  <tbody>\n",
       "    <tr>\n",
       "      <th>0</th>\n",
       "      <td>1. Eat a balanced and nutritious diet: Make su...</td>\n",
       "      <td></td>\n",
       "      <td>Give three tips for staying healthy.</td>\n",
       "    </tr>\n",
       "    <tr>\n",
       "      <th>1</th>\n",
       "      <td>The three primary colors are red, blue, and ye...</td>\n",
       "      <td></td>\n",
       "      <td>What are the three primary colors?</td>\n",
       "    </tr>\n",
       "    <tr>\n",
       "      <th>2</th>\n",
       "      <td>An atom is the basic building block of all mat...</td>\n",
       "      <td></td>\n",
       "      <td>Describe the structure of an atom.</td>\n",
       "    </tr>\n",
       "    <tr>\n",
       "      <th>3</th>\n",
       "      <td>There are several ways to reduce air pollution...</td>\n",
       "      <td></td>\n",
       "      <td>How can we reduce air pollution?</td>\n",
       "    </tr>\n",
       "    <tr>\n",
       "      <th>4</th>\n",
       "      <td>I had to make a difficult decision when I was ...</td>\n",
       "      <td></td>\n",
       "      <td>Pretend you are a project manager of a constru...</td>\n",
       "    </tr>\n",
       "  </tbody>\n",
       "</table>\n",
       "</div>\n",
       "    <div class=\"colab-df-buttons\">\n",
       "\n",
       "  <div class=\"colab-df-container\">\n",
       "    <button class=\"colab-df-convert\" onclick=\"convertToInteractive('df-64566216-4eb3-4b57-aa1b-e14fb6ed97fd')\"\n",
       "            title=\"Convert this dataframe to an interactive table.\"\n",
       "            style=\"display:none;\">\n",
       "\n",
       "  <svg xmlns=\"http://www.w3.org/2000/svg\" height=\"24px\" viewBox=\"0 -960 960 960\">\n",
       "    <path d=\"M120-120v-720h720v720H120Zm60-500h600v-160H180v160Zm220 220h160v-160H400v160Zm0 220h160v-160H400v160ZM180-400h160v-160H180v160Zm440 0h160v-160H620v160ZM180-180h160v-160H180v160Zm440 0h160v-160H620v160Z\"/>\n",
       "  </svg>\n",
       "    </button>\n",
       "\n",
       "  <style>\n",
       "    .colab-df-container {\n",
       "      display:flex;\n",
       "      gap: 12px;\n",
       "    }\n",
       "\n",
       "    .colab-df-convert {\n",
       "      background-color: #E8F0FE;\n",
       "      border: none;\n",
       "      border-radius: 50%;\n",
       "      cursor: pointer;\n",
       "      display: none;\n",
       "      fill: #1967D2;\n",
       "      height: 32px;\n",
       "      padding: 0 0 0 0;\n",
       "      width: 32px;\n",
       "    }\n",
       "\n",
       "    .colab-df-convert:hover {\n",
       "      background-color: #E2EBFA;\n",
       "      box-shadow: 0px 1px 2px rgba(60, 64, 67, 0.3), 0px 1px 3px 1px rgba(60, 64, 67, 0.15);\n",
       "      fill: #174EA6;\n",
       "    }\n",
       "\n",
       "    .colab-df-buttons div {\n",
       "      margin-bottom: 4px;\n",
       "    }\n",
       "\n",
       "    [theme=dark] .colab-df-convert {\n",
       "      background-color: #3B4455;\n",
       "      fill: #D2E3FC;\n",
       "    }\n",
       "\n",
       "    [theme=dark] .colab-df-convert:hover {\n",
       "      background-color: #434B5C;\n",
       "      box-shadow: 0px 1px 3px 1px rgba(0, 0, 0, 0.15);\n",
       "      filter: drop-shadow(0px 1px 2px rgba(0, 0, 0, 0.3));\n",
       "      fill: #FFFFFF;\n",
       "    }\n",
       "  </style>\n",
       "\n",
       "    <script>\n",
       "      const buttonEl =\n",
       "        document.querySelector('#df-64566216-4eb3-4b57-aa1b-e14fb6ed97fd button.colab-df-convert');\n",
       "      buttonEl.style.display =\n",
       "        google.colab.kernel.accessAllowed ? 'block' : 'none';\n",
       "\n",
       "      async function convertToInteractive(key) {\n",
       "        const element = document.querySelector('#df-64566216-4eb3-4b57-aa1b-e14fb6ed97fd');\n",
       "        const dataTable =\n",
       "          await google.colab.kernel.invokeFunction('convertToInteractive',\n",
       "                                                    [key], {});\n",
       "        if (!dataTable) return;\n",
       "\n",
       "        const docLinkHtml = 'Like what you see? Visit the ' +\n",
       "          '<a target=\"_blank\" href=https://colab.research.google.com/notebooks/data_table.ipynb>data table notebook</a>'\n",
       "          + ' to learn more about interactive tables.';\n",
       "        element.innerHTML = '';\n",
       "        dataTable['output_type'] = 'display_data';\n",
       "        await google.colab.output.renderOutput(dataTable, element);\n",
       "        const docLink = document.createElement('div');\n",
       "        docLink.innerHTML = docLinkHtml;\n",
       "        element.appendChild(docLink);\n",
       "      }\n",
       "    </script>\n",
       "  </div>\n",
       "\n",
       "\n",
       "    <div id=\"df-3a1a0b40-830e-418e-8e90-f618bdaee0f9\">\n",
       "      <button class=\"colab-df-quickchart\" onclick=\"quickchart('df-3a1a0b40-830e-418e-8e90-f618bdaee0f9')\"\n",
       "                title=\"Suggest charts\"\n",
       "                style=\"display:none;\">\n",
       "\n",
       "<svg xmlns=\"http://www.w3.org/2000/svg\" height=\"24px\"viewBox=\"0 0 24 24\"\n",
       "     width=\"24px\">\n",
       "    <g>\n",
       "        <path d=\"M19 3H5c-1.1 0-2 .9-2 2v14c0 1.1.9 2 2 2h14c1.1 0 2-.9 2-2V5c0-1.1-.9-2-2-2zM9 17H7v-7h2v7zm4 0h-2V7h2v10zm4 0h-2v-4h2v4z\"/>\n",
       "    </g>\n",
       "</svg>\n",
       "      </button>\n",
       "\n",
       "<style>\n",
       "  .colab-df-quickchart {\n",
       "      --bg-color: #E8F0FE;\n",
       "      --fill-color: #1967D2;\n",
       "      --hover-bg-color: #E2EBFA;\n",
       "      --hover-fill-color: #174EA6;\n",
       "      --disabled-fill-color: #AAA;\n",
       "      --disabled-bg-color: #DDD;\n",
       "  }\n",
       "\n",
       "  [theme=dark] .colab-df-quickchart {\n",
       "      --bg-color: #3B4455;\n",
       "      --fill-color: #D2E3FC;\n",
       "      --hover-bg-color: #434B5C;\n",
       "      --hover-fill-color: #FFFFFF;\n",
       "      --disabled-bg-color: #3B4455;\n",
       "      --disabled-fill-color: #666;\n",
       "  }\n",
       "\n",
       "  .colab-df-quickchart {\n",
       "    background-color: var(--bg-color);\n",
       "    border: none;\n",
       "    border-radius: 50%;\n",
       "    cursor: pointer;\n",
       "    display: none;\n",
       "    fill: var(--fill-color);\n",
       "    height: 32px;\n",
       "    padding: 0;\n",
       "    width: 32px;\n",
       "  }\n",
       "\n",
       "  .colab-df-quickchart:hover {\n",
       "    background-color: var(--hover-bg-color);\n",
       "    box-shadow: 0 1px 2px rgba(60, 64, 67, 0.3), 0 1px 3px 1px rgba(60, 64, 67, 0.15);\n",
       "    fill: var(--button-hover-fill-color);\n",
       "  }\n",
       "\n",
       "  .colab-df-quickchart-complete:disabled,\n",
       "  .colab-df-quickchart-complete:disabled:hover {\n",
       "    background-color: var(--disabled-bg-color);\n",
       "    fill: var(--disabled-fill-color);\n",
       "    box-shadow: none;\n",
       "  }\n",
       "\n",
       "  .colab-df-spinner {\n",
       "    border: 2px solid var(--fill-color);\n",
       "    border-color: transparent;\n",
       "    border-bottom-color: var(--fill-color);\n",
       "    animation:\n",
       "      spin 1s steps(1) infinite;\n",
       "  }\n",
       "\n",
       "  @keyframes spin {\n",
       "    0% {\n",
       "      border-color: transparent;\n",
       "      border-bottom-color: var(--fill-color);\n",
       "      border-left-color: var(--fill-color);\n",
       "    }\n",
       "    20% {\n",
       "      border-color: transparent;\n",
       "      border-left-color: var(--fill-color);\n",
       "      border-top-color: var(--fill-color);\n",
       "    }\n",
       "    30% {\n",
       "      border-color: transparent;\n",
       "      border-left-color: var(--fill-color);\n",
       "      border-top-color: var(--fill-color);\n",
       "      border-right-color: var(--fill-color);\n",
       "    }\n",
       "    40% {\n",
       "      border-color: transparent;\n",
       "      border-right-color: var(--fill-color);\n",
       "      border-top-color: var(--fill-color);\n",
       "    }\n",
       "    60% {\n",
       "      border-color: transparent;\n",
       "      border-right-color: var(--fill-color);\n",
       "    }\n",
       "    80% {\n",
       "      border-color: transparent;\n",
       "      border-right-color: var(--fill-color);\n",
       "      border-bottom-color: var(--fill-color);\n",
       "    }\n",
       "    90% {\n",
       "      border-color: transparent;\n",
       "      border-bottom-color: var(--fill-color);\n",
       "    }\n",
       "  }\n",
       "</style>\n",
       "\n",
       "      <script>\n",
       "        async function quickchart(key) {\n",
       "          const quickchartButtonEl =\n",
       "            document.querySelector('#' + key + ' button');\n",
       "          quickchartButtonEl.disabled = true;  // To prevent multiple clicks.\n",
       "          quickchartButtonEl.classList.add('colab-df-spinner');\n",
       "          try {\n",
       "            const charts = await google.colab.kernel.invokeFunction(\n",
       "                'suggestCharts', [key], {});\n",
       "          } catch (error) {\n",
       "            console.error('Error during call to suggestCharts:', error);\n",
       "          }\n",
       "          quickchartButtonEl.classList.remove('colab-df-spinner');\n",
       "          quickchartButtonEl.classList.add('colab-df-quickchart-complete');\n",
       "        }\n",
       "        (() => {\n",
       "          let quickchartButtonEl =\n",
       "            document.querySelector('#df-3a1a0b40-830e-418e-8e90-f618bdaee0f9 button');\n",
       "          quickchartButtonEl.style.display =\n",
       "            google.colab.kernel.accessAllowed ? 'block' : 'none';\n",
       "        })();\n",
       "      </script>\n",
       "    </div>\n",
       "    </div>\n",
       "  </div>\n"
      ],
      "text/plain": [
       "                                              output input  \\\n",
       "0  1. Eat a balanced and nutritious diet: Make su...         \n",
       "1  The three primary colors are red, blue, and ye...         \n",
       "2  An atom is the basic building block of all mat...         \n",
       "3  There are several ways to reduce air pollution...         \n",
       "4  I had to make a difficult decision when I was ...         \n",
       "\n",
       "                                         instruction  \n",
       "0               Give three tips for staying healthy.  \n",
       "1                 What are the three primary colors?  \n",
       "2                 Describe the structure of an atom.  \n",
       "3                   How can we reduce air pollution?  \n",
       "4  Pretend you are a project manager of a constru...  "
      ]
     },
     "execution_count": 17,
     "metadata": {},
     "output_type": "execute_result"
    }
   ],
   "source": [
    "df.head(5)"
   ]
  },
  {
   "cell_type": "code",
   "execution_count": null,
   "metadata": {
    "colab": {
     "base_uri": "https://localhost:8080/"
    },
    "id": "fsifd-sGmdqP",
    "outputId": "f0fbfb23-ca3e-4007-b582-bac69a2a1079"
   },
   "outputs": [
    {
     "data": {
      "text/plain": [
       "(1000, 3)"
      ]
     },
     "execution_count": 18,
     "metadata": {},
     "output_type": "execute_result"
    }
   ],
   "source": [
    "df.shape"
   ]
  },
  {
   "cell_type": "code",
   "execution_count": null,
   "metadata": {
    "colab": {
     "base_uri": "https://localhost:8080/"
    },
    "id": "LGHJunQsml47",
    "outputId": "e109178b-7aff-48f9-e696-dba048d3fc56"
   },
   "outputs": [
    {
     "data": {
      "text/plain": [
       "(0      1. Eat a balanced and nutritious diet: Make su...\n",
       " 1      The three primary colors are red, blue, and ye...\n",
       " 2      An atom is the basic building block of all mat...\n",
       " 3      There are several ways to reduce air pollution...\n",
       " 4      I had to make a difficult decision when I was ...\n",
       "                              ...                        \n",
       " 995    A stock split is a corporate action in which a...\n",
       " 996    Japanese cuisine has a flavorful yet subtle ta...\n",
       " 997    1. Confederation and Expansion (1867): In 1867...\n",
       " 998    Individual performance refers to how well a si...\n",
       " 999    The feasibility of opening a high-end gourmet ...\n",
       " Name: output, Length: 1000, dtype: object,)"
      ]
     },
     "execution_count": 22,
     "metadata": {},
     "output_type": "execute_result"
    }
   ],
   "source": [
    "df['input'],\n",
    "df['output'],"
   ]
  },
  {
   "cell_type": "code",
   "execution_count": null,
   "metadata": {
    "colab": {
     "base_uri": "https://localhost:8080/",
     "height": 81,
     "referenced_widgets": [
      "ced8827da9724aec9f087f8a944deac4",
      "f3c65f7a470f41d698cde7b0fbda2bf9",
      "f709fdf5f44247f4b7dc3e0288969b64",
      "dcec1772d8dc4d849c6ebd3a947a5806",
      "6fd989bb05bf43a490f2469e5d7e419a",
      "d374ec691d614208b6644638e7040f47",
      "9a8d717e9d6348cf8b802d118bc031ba",
      "9dd6e0e3e1624635a797f33ea784f4c4",
      "338d103d966f423fb8115f8e9b2fba5e",
      "0fbbff1e8b3640578e7427aa9ea9e52a",
      "856077dea6774c5a990b8a2fe5e3776b",
      "e22d0ff20c8844c9b410875939987346",
      "760caf23477c42318aac5429a221a4d1",
      "321dc721fb8b45eab01856e7dc6815d4",
      "1de36e33df804f35a00a9310775f8747",
      "f229da404e064ddc9575650e14960af9",
      "4967a9bfecbb4274a63daed589fb7c72",
      "d6dc7b4f5a1842379abea60594f4e497",
      "c37e2e743d38422797265d24926a8efa",
      "ae1409b5ce394d39bc13bc3e50295724",
      "c1dd5044af884d6c8577ba82d8dba80e",
      "e321c2281def4f2aa87434011511cc7a"
     ]
    },
    "id": "3I_j1Nkgj2pV",
    "outputId": "bfed76a4-4a51-45db-92b1-430d223f8184"
   },
   "outputs": [],
   "source": [
    "def format_prompt(example):\n",
    "    prompt = f\"### Instruction:\\n{example['instruction']}\\n\\n### Input:\\n{example['input']}\\n\\n### Response:\\n{example['output']}\"\n",
    "    return {\"prompt\": prompt}\n",
    "\n",
    "dataset = dataset.map(format_prompt)\n",
    "\n",
    "def tokenize(example):\n",
    "    tokens = tokenizer(\n",
    "        example[\"prompt\"],\n",
    "        truncation=True,\n",
    "        padding=\"max_length\",\n",
    "        max_length=512\n",
    "    )\n",
    "    tokens[\"labels\"] = tokens[\"input_ids\"].copy()\n",
    "    return tokens\n",
    "\n",
    "tokenized_dataset = dataset.map(tokenize, batched=True)\n",
    "tokenized_dataset.set_format(type=\"torch\", columns=[\"input_ids\", \"attention_mask\", \"labels\"])\n",
    "\n"
   ]
  },
  {
   "cell_type": "code",
   "execution_count": null,
   "metadata": {
    "id": "_BTiyZyuj7EL"
   },
   "outputs": [],
   "source": [
    "from peft import LoraConfig, get_peft_model, TaskType\n",
    "\n",
    "lora_config = LoraConfig(\n",
    "    r=8,\n",
    "    lora_alpha=16,\n",
    "    lora_dropout=0.05,\n",
    "    bias=\"none\",\n",
    "    task_type=TaskType.CAUSAL_LM,\n",
    "    target_modules=[\"q_proj\", \"v_proj\"]  # just for Gemma :))\n",
    ")\n",
    "\n",
    "model = get_peft_model(model, lora_config)\n",
    "model.print_trainable_parameters()\n"
   ]
  },
  {
   "cell_type": "code",
   "execution_count": null,
   "metadata": {
    "colab": {
     "base_uri": "https://localhost:8080/",
     "height": 928
    },
    "id": "Z5nXHHLfj8MH",
    "outputId": "daee0a93-dd01-4e4f-b301-c6a41ec335f0"
   },
   "outputs": [
    {
     "name": "stderr",
     "output_type": "stream",
     "text": [
      "/tmp/ipython-input-2923562311.py:16: FutureWarning: `tokenizer` is deprecated and will be removed in version 5.0.0 for `Trainer.__init__`. Use `processing_class` instead.\n",
      "  trainer = Trainer(\n"
     ]
    },
    {
     "data": {
      "text/html": [
       "\n",
       "    <div>\n",
       "      \n",
       "      <progress value='250' max='250' style='width:300px; height:20px; vertical-align: middle;'></progress>\n",
       "      [250/250 08:17, Epoch 1/1]\n",
       "    </div>\n",
       "    <table border=\"1\" class=\"dataframe\">\n",
       "  <thead>\n",
       " <tr style=\"text-align: left;\">\n",
       "      <th>Step</th>\n",
       "      <th>Training Loss</th>\n",
       "    </tr>\n",
       "  </thead>\n",
       "  <tbody>\n",
       "    <tr>\n",
       "      <td>10</td>\n",
       "      <td>1.437300</td>\n",
       "    </tr>\n",
       "    <tr>\n",
       "      <td>20</td>\n",
       "      <td>1.322200</td>\n",
       "    </tr>\n",
       "    <tr>\n",
       "      <td>30</td>\n",
       "      <td>1.199900</td>\n",
       "    </tr>\n",
       "    <tr>\n",
       "      <td>40</td>\n",
       "      <td>1.235800</td>\n",
       "    </tr>\n",
       "    <tr>\n",
       "      <td>50</td>\n",
       "      <td>1.195700</td>\n",
       "    </tr>\n",
       "    <tr>\n",
       "      <td>60</td>\n",
       "      <td>1.230900</td>\n",
       "    </tr>\n",
       "    <tr>\n",
       "      <td>70</td>\n",
       "      <td>1.224500</td>\n",
       "    </tr>\n",
       "    <tr>\n",
       "      <td>80</td>\n",
       "      <td>1.217700</td>\n",
       "    </tr>\n",
       "    <tr>\n",
       "      <td>90</td>\n",
       "      <td>1.314100</td>\n",
       "    </tr>\n",
       "    <tr>\n",
       "      <td>100</td>\n",
       "      <td>1.164400</td>\n",
       "    </tr>\n",
       "    <tr>\n",
       "      <td>110</td>\n",
       "      <td>1.159900</td>\n",
       "    </tr>\n",
       "    <tr>\n",
       "      <td>120</td>\n",
       "      <td>1.135800</td>\n",
       "    </tr>\n",
       "    <tr>\n",
       "      <td>130</td>\n",
       "      <td>1.202800</td>\n",
       "    </tr>\n",
       "    <tr>\n",
       "      <td>140</td>\n",
       "      <td>1.148900</td>\n",
       "    </tr>\n",
       "    <tr>\n",
       "      <td>150</td>\n",
       "      <td>1.136300</td>\n",
       "    </tr>\n",
       "    <tr>\n",
       "      <td>160</td>\n",
       "      <td>1.216300</td>\n",
       "    </tr>\n",
       "    <tr>\n",
       "      <td>170</td>\n",
       "      <td>1.178200</td>\n",
       "    </tr>\n",
       "    <tr>\n",
       "      <td>180</td>\n",
       "      <td>1.184300</td>\n",
       "    </tr>\n",
       "    <tr>\n",
       "      <td>190</td>\n",
       "      <td>1.160600</td>\n",
       "    </tr>\n",
       "    <tr>\n",
       "      <td>200</td>\n",
       "      <td>1.135400</td>\n",
       "    </tr>\n",
       "    <tr>\n",
       "      <td>210</td>\n",
       "      <td>1.171400</td>\n",
       "    </tr>\n",
       "    <tr>\n",
       "      <td>220</td>\n",
       "      <td>1.200600</td>\n",
       "    </tr>\n",
       "    <tr>\n",
       "      <td>230</td>\n",
       "      <td>1.157500</td>\n",
       "    </tr>\n",
       "    <tr>\n",
       "      <td>240</td>\n",
       "      <td>1.167000</td>\n",
       "    </tr>\n",
       "    <tr>\n",
       "      <td>250</td>\n",
       "      <td>1.189000</td>\n",
       "    </tr>\n",
       "  </tbody>\n",
       "</table><p>"
      ],
      "text/plain": [
       "<IPython.core.display.HTML object>"
      ]
     },
     "metadata": {},
     "output_type": "display_data"
    },
    {
     "data": {
      "text/plain": [
       "TrainOutput(global_step=250, training_loss=1.2034682922363282, metrics={'train_runtime': 499.9147, 'train_samples_per_second': 2.0, 'train_steps_per_second': 0.5, 'total_flos': 6091180081152000.0, 'train_loss': 1.2034682922363282, 'epoch': 1.0})"
      ]
     },
     "execution_count": 29,
     "metadata": {},
     "output_type": "execute_result"
    }
   ],
   "source": [
    "from transformers import TrainingArguments, Trainer\n",
    "\n",
    "training_args = TrainingArguments(\n",
    "    output_dir=\"./gemma-lora\",\n",
    "    per_device_train_batch_size=1,\n",
    "    gradient_accumulation_steps=4,\n",
    "    num_train_epochs=1,\n",
    "    learning_rate=2e-4,\n",
    "    fp16=True,\n",
    "    logging_steps=10,\n",
    "    save_steps=100,\n",
    "    save_total_limit=1,\n",
    "    report_to=\"none\"\n",
    ")\n",
    "\n",
    "trainer = Trainer(\n",
    "    model=model,\n",
    "    args=training_args,\n",
    "    train_dataset=tokenized_dataset,\n",
    "    tokenizer=tokenizer\n",
    ")\n",
    "\n",
    "trainer.train()\n"
   ]
  },
  {
   "cell_type": "code",
   "execution_count": null,
   "metadata": {
    "id": "gxVwtWPdj8CJ"
   },
   "outputs": [],
   "source": [
    "model.save_pretrained(\"./gemma-lora-adapter\")"
   ]
  },
  {
   "cell_type": "code",
   "execution_count": null,
   "metadata": {
    "id": "1cpNbTXTj7-x"
   },
   "outputs": [],
   "source": [
    "def chat(instruction, input_text=\"\"):\n",
    "    model.eval()\n",
    "    device = model.device\n",
    "\n",
    "    prompt = f\"### Instruction:\\n{instruction}\\n\\n### Input:\\n{input_text}\\n\\n### Response:\\n\"\n",
    "    inputs = tokenizer(prompt, return_tensors=\"pt\").to(device)\n",
    "\n",
    "    with torch.no_grad():\n",
    "        outputs = model.generate(\n",
    "            **inputs,\n",
    "            max_new_tokens=128,\n",
    "            do_sample=True,\n",
    "            top_k=50,\n",
    "            top_p=0.95,\n",
    "            temperature=0.7\n",
    "        )\n",
    "\n",
    "    print(tokenizer.decode(outputs[0], skip_special_tokens=True))\n"
   ]
  },
  {
   "cell_type": "code",
   "execution_count": null,
   "metadata": {
    "colab": {
     "base_uri": "https://localhost:8080/"
    },
    "id": "nYluO1V-kHZn",
    "outputId": "369e2baf-e613-45c3-d13d-f72988d23fa3"
   },
   "outputs": [
    {
     "name": "stdout",
     "output_type": "stream",
     "text": [
      "### Instruction:\n",
      "Translate the following sentence to French:\n",
      "\n",
      "### Input:\n",
      "I am very happy to see you.\n",
      "\n",
      "### Response:\n",
      "Je suis très reconnaissant de voir-vous.\n",
      "\n",
      "### Explanation:\n",
      "The French sentence \"Je suis très reconnaissant de voir-vous\" means \"I am very happy to see you\". It is a polite expression of gratitude and is used to express appreciation or recognition to someone who has done something nice for you.\n"
     ]
    }
   ],
   "source": [
    "chat(\"Translate the following sentence to French:\", \"I am very happy to see you.\")"
   ]
  },
  {
   "cell_type": "code",
   "execution_count": null,
   "metadata": {
    "colab": {
     "base_uri": "https://localhost:8080/"
    },
    "id": "-M6XngBepFuU",
    "outputId": "2497e4ea-895b-49b1-c289-a0c822436873"
   },
   "outputs": [
    {
     "name": "stdout",
     "output_type": "stream",
     "text": [
      "### Instruction:\n",
      "Write Python code that prints all even numbers from 1 to 20.\n",
      "\n",
      "### Input:\n",
      "\n",
      "\n",
      "### Response:\n",
      "```python\n",
      "for i in range(1, 21):\n",
      "    if i % 2 == 0:\n",
      "        print(i)\n",
      "```\n",
      "\n",
      "This code uses a for loop to iterate through the numbers from 1 to 20. For each number i in this range, the if statement checks if the remainder of i divided by 2 is equal to 0, meaning that i is even. If it is, the code prints the value of i.\n",
      "\n",
      "Output:\n",
      "```python\n",
      "2\n",
      "4\n",
      "6\n",
      "8\n",
      "10\n",
      "12\n",
      "14\n",
      "16\n",
      "18\n",
      "\n"
     ]
    }
   ],
   "source": [
    "chat(\"Write Python code that prints all even numbers from 1 to 20.\")"
   ]
  },
  {
   "cell_type": "code",
   "execution_count": null,
   "metadata": {
    "colab": {
     "base_uri": "https://localhost:8080/"
    },
    "id": "_Lnu0CDOppgT",
    "outputId": "36c3a135-efed-4a3b-8c58-da9895e24d6f"
   },
   "outputs": [
    {
     "name": "stdout",
     "output_type": "stream",
     "text": [
      "2\n",
      "4\n",
      "6\n",
      "8\n",
      "10\n",
      "12\n",
      "14\n",
      "16\n",
      "18\n",
      "20\n"
     ]
    }
   ],
   "source": [
    "for i in range(1, 21):\n",
    "    if i % 2 == 0:\n",
    "        print(i)"
   ]
  },
  {
   "cell_type": "markdown",
   "metadata": {
    "id": "7n875uTEqoKu"
   },
   "source": [
    "## bert"
   ]
  },
  {
   "cell_type": "code",
   "execution_count": null,
   "metadata": {
    "id": "coNE1Jsgqre1"
   },
   "outputs": [],
   "source": [
    "dataset = load_dataset(\"imdb\")\n",
    "dataset = dataset.shuffle(seed=42)"
   ]
  },
  {
   "cell_type": "code",
   "execution_count": null,
   "metadata": {
    "id": "tEhrPaY6sSKG"
   },
   "outputs": [],
   "source": [
    "df2 = pd.DataFrame(dataset)"
   ]
  },
  {
   "cell_type": "code",
   "execution_count": null,
   "metadata": {
    "id": "YXYOYKa5quO8"
   },
   "outputs": [],
   "source": [
    "train_dataset = dataset[\"train\"].select(range(2000))\n",
    "test_dataset = dataset[\"test\"].select(range(500))"
   ]
  },
  {
   "cell_type": "code",
   "execution_count": null,
   "metadata": {
    "colab": {
     "base_uri": "https://localhost:8080/",
     "height": 209,
     "referenced_widgets": [
      "28fc035d57c6415f81db362b83dc2395",
      "847f605b3efe48f6b8e4d6794c656671",
      "06896407d0d746139107e8288725aa91",
      "93da3921fed84d79b4195d015110612c",
      "eed414d214b8418bb62280e748262d7e",
      "ccf0b601947d4475acfbf518895425fc",
      "15d7680d56b1461f8cfb1c097f90cc0d",
      "2ad6dac003fc4f88a9f5648c2c7bfae5",
      "e11fa8b2ab594f19ae7a09107f4f1232",
      "135d9b472f454c6d9c4f416af38e3b68",
      "9cbb8262cb3d4e9190e62f3ab30c7732",
      "310fd49d359d40429114cdd610aaa36b",
      "e697970260a54b5aab6be5fdc6132f51",
      "9c939a6b17e84006b54ad9eb003381cf",
      "0c3859327b004c0bbce0551eb470e789",
      "396652c4f9874b4293aad0cc28fe5dc2",
      "cae777a19f7a4d6db43cbc3835444fb2",
      "b05fd160b66845d0b5fdaf5b47c1a819",
      "82bf709219864e09b2c21489086067ff",
      "bddeec9529954e81af38ce06b050fa56",
      "85afb52466aa4b16863239230f27b1e2",
      "05e7d6a8f71641d19b95d20f5bcd65a4",
      "74d5f7c023284c189b38f6ed5a91c382",
      "0e614a7204a8417dbb20fce08c40b0b2",
      "37b4f72d5f654e33b664a90585170c42",
      "ae17fda047cb49648416a4b3fa5e2339",
      "de872129be85432c88b7232b6f76e425",
      "dbd29e9ffe944e16b8f9e99bf6612e92",
      "f5dff0fe6a7845e58b22850c143cd96c",
      "0a6819932195455cac39245350d5b6fa",
      "7dd69b1e6cbc406dbdc35b4be114b588",
      "c6090ebf86f7468cabf2cb9a5f2e7ba2",
      "1671be71202745709be15498a0b08860",
      "1c8c2cadba96410796abffa3c6911c1f",
      "b0f1c58d3e314830800e3edddd55e1fe",
      "689b8d19827e43b4ae6ac61269d1b62e",
      "34dd79451e3b41fc9d3bd514e3bfe73f",
      "df54e7fcff974832b98b993968b2e5dc",
      "26896403c66449b39893bae2cafe7f96",
      "f40ec70daa0c46c884322d3dc0edf37d",
      "19706bac5fed4ee6b65ea894d2b14531",
      "8eca589a1d83432cac5d49dc29a3cac2",
      "2612013261fb4c4abe7389577e94c950",
      "eeaba459899d4897917a0567e13524b6",
      "4a4462467678403d9a3fe003c023034a",
      "13a2404f2fd5482a8f0ab841990619f3",
      "1aee3ac4085042008415151d626687e1",
      "52919155bfa9485aa9bd9d4d97defb87",
      "5447dff7f9874a5297a91dc109f1022d",
      "f50917d7f4be49e5b79462006948961d",
      "dfcf95b028c144b3ac42a83469be3362",
      "44588c708dcd463687667766ec6f80c5",
      "32f938e289a249fc8e82b905a9814715",
      "d289160cf98946ad980f7a27d0fc302d",
      "5fbe99d8a48144d7af411b77e11b722b",
      "b3e5e43321c84f22b519f3a8928df770",
      "581e5f2515984d9d9625b70800abe6b8",
      "229b26009cf043128f8c75f0be629682",
      "b3f1b93cbb0644cdb09ef8d3a7e750e9",
      "f9859f0dd0d94aaba29c79f70cc6f80c",
      "dd19559955cb4ca6b35e11b256589513",
      "52f689c655794c90bb366c091fb2559c",
      "69210cc879744b9293a263e0d1be40bf",
      "7c64991d041442859147fae1feadb3e0",
      "9f03b701cf254253bc0ac479b87f468b",
      "6ee87ff7129a42e6952cc19681a88f7a"
     ]
    },
    "id": "9vgnWMpCquDr",
    "outputId": "c3906cb1-b1e2-4408-b5a2-523e0a366cc9"
   },
   "outputs": [],
   "source": [
    "model_name = \"distilbert-base-uncased\"\n",
    "tokenizer = AutoTokenizer.from_pretrained(model_name)\n",
    "\n",
    "def tokenize_function(examples):\n",
    "    return tokenizer(examples[\"text\"], truncation=True, padding=\"max_length\", max_length=128)\n",
    "\n",
    "train_dataset = train_dataset.map(tokenize_function, batched=True)\n",
    "test_dataset = test_dataset.map(tokenize_function, batched=True)"
   ]
  },
  {
   "cell_type": "code",
   "execution_count": null,
   "metadata": {
    "id": "ZM7NU908quAL"
   },
   "outputs": [],
   "source": [
    "train_dataset.set_format(type=\"torch\", columns=[\"input_ids\", \"attention_mask\", \"label\"])\n",
    "test_dataset.set_format(type=\"torch\", columns=[\"input_ids\", \"attention_mask\", \"label\"])"
   ]
  },
  {
   "cell_type": "code",
   "execution_count": null,
   "metadata": {
    "colab": {
     "base_uri": "https://localhost:8080/",
     "height": 104,
     "referenced_widgets": [
      "0a441fb3c492421ab500a5a7ffb81b2a",
      "0edd6e293faf4f43a666a9bf94ff4c68",
      "337391774bbb4d67a081748423d09d0c",
      "c2cd448a7c1645878e33a3f66f0d95c6",
      "b34a491fa6be4d4195ee593775e44909",
      "2d8fd6606f7a4596ab4a440194e7b271",
      "f9942492d7884355ac99a5502cc9ecde",
      "58a26ee388af411285dc985b0e490869",
      "78b0e6b12daf4682ad3678dcce4659e6",
      "b38d976635ed42f5a3bc06863223c43f",
      "5eb24d712c5e448eaf4fefb29504d58d"
     ]
    },
    "id": "tgqX-biKq5jt",
    "outputId": "194d643e-dc59-498f-98fc-d80bf2153fd6"
   },
   "outputs": [],
   "source": [
    "model = AutoModelForSequenceClassification.from_pretrained(model_name, num_labels=2)"
   ]
  },
  {
   "cell_type": "code",
   "execution_count": null,
   "metadata": {
    "id": "GR4tT4eeYUKA"
   },
   "outputs": [],
   "source": [
    "from peft import LoraConfig, get_peft_model, TaskType"
   ]
  },
  {
   "cell_type": "code",
   "execution_count": null,
   "metadata": {
    "id": "Tl0cVtHdq5gO"
   },
   "outputs": [],
   "source": [
    "lora_config = LoraConfig(\n",
    "    r=8,                  # rank\n",
    "    lora_alpha=16,        # alpha scaling\n",
    "    target_modules=[\"q_lin\", \"v_lin\"],\n",
    "    lora_dropout=0.1,\n",
    "    bias=\"none\",\n",
    "    task_type=\"SEQ_CLS\"\n",
    ")"
   ]
  },
  {
   "cell_type": "code",
   "execution_count": null,
   "metadata": {
    "colab": {
     "base_uri": "https://localhost:8080/"
    },
    "id": "ezPgDhctq5eI",
    "outputId": "3b23d259-a825-4bdd-b622-6cdf437ae56e"
   },
   "outputs": [
    {
     "name": "stdout",
     "output_type": "stream",
     "text": [
      "trainable params: 739,586 || all params: 67,694,596 || trainable%: 1.0925\n"
     ]
    }
   ],
   "source": [
    "model = get_peft_model(model, lora_config)\n",
    "model.print_trainable_parameters()"
   ]
  },
  {
   "cell_type": "code",
   "execution_count": null,
   "metadata": {
    "id": "S9Y1DMIZYsnj"
   },
   "outputs": [],
   "source": [
    "from transformers import TrainingArguments, Trainer"
   ]
  },
  {
   "cell_type": "code",
   "execution_count": null,
   "metadata": {
    "id": "c-Wv1a5pZVgz"
   },
   "outputs": [],
   "source": [
    "training_args = TrainingArguments(\n",
    "    output_dir=\"./lora-distilbert-imdb\",\n",
    "    per_device_train_batch_size=1,\n",
    "    gradient_accumulation_steps=4,\n",
    "    num_train_epochs=1,\n",
    "    learning_rate=2e-4,\n",
    "    fp16=True,\n",
    "    logging_steps=10,\n",
    "    save_steps=100,\n",
    "    save_total_limit=1,\n",
    "    report_to=\"none\"\n",
    ")"
   ]
  },
  {
   "cell_type": "code",
   "execution_count": null,
   "metadata": {
    "colab": {
     "base_uri": "https://localhost:8080/"
    },
    "id": "V1gHYWcEqt5x",
    "outputId": "f34b675b-0a27-4241-c6ca-063957543291"
   },
   "outputs": [
    {
     "name": "stderr",
     "output_type": "stream",
     "text": [
      "/tmp/ipython-input-963760692.py:1: FutureWarning: `tokenizer` is deprecated and will be removed in version 5.0.0 for `Trainer.__init__`. Use `processing_class` instead.\n",
      "  trainer = Trainer(\n"
     ]
    }
   ],
   "source": [
    "trainer = Trainer(\n",
    "    model=model,\n",
    "    args=training_args,\n",
    "    train_dataset=train_dataset,\n",
    "    # eval_dataset=test_dataset,\n",
    "    tokenizer=tokenizer,\n",
    "    # compute_metrics=compute_metrics,\n",
    ")\n",
    "# trainer = Trainer(\n",
    "#     model=model,\n",
    "#     args=training_args,\n",
    "#     train_dataset=tokenized_dataset,\n",
    "#     tokenizer=tokenizer\n",
    "# )"
   ]
  },
  {
   "cell_type": "code",
   "execution_count": null,
   "metadata": {
    "colab": {
     "base_uri": "https://localhost:8080/",
     "height": 1000
    },
    "id": "R_SjrQ5Pqt0j",
    "outputId": "6a3cce47-c8b5-4c29-e9b9-dac4a9b76275"
   },
   "outputs": [
    {
     "data": {
      "text/html": [
       "\n",
       "    <div>\n",
       "      \n",
       "      <progress value='500' max='500' style='width:300px; height:20px; vertical-align: middle;'></progress>\n",
       "      [500/500 00:51, Epoch 1/1]\n",
       "    </div>\n",
       "    <table border=\"1\" class=\"dataframe\">\n",
       "  <thead>\n",
       " <tr style=\"text-align: left;\">\n",
       "      <th>Step</th>\n",
       "      <th>Training Loss</th>\n",
       "    </tr>\n",
       "  </thead>\n",
       "  <tbody>\n",
       "    <tr>\n",
       "      <td>10</td>\n",
       "      <td>0.727100</td>\n",
       "    </tr>\n",
       "    <tr>\n",
       "      <td>20</td>\n",
       "      <td>0.705600</td>\n",
       "    </tr>\n",
       "    <tr>\n",
       "      <td>30</td>\n",
       "      <td>0.675300</td>\n",
       "    </tr>\n",
       "    <tr>\n",
       "      <td>40</td>\n",
       "      <td>0.687100</td>\n",
       "    </tr>\n",
       "    <tr>\n",
       "      <td>50</td>\n",
       "      <td>0.632900</td>\n",
       "    </tr>\n",
       "    <tr>\n",
       "      <td>60</td>\n",
       "      <td>0.647200</td>\n",
       "    </tr>\n",
       "    <tr>\n",
       "      <td>70</td>\n",
       "      <td>0.633300</td>\n",
       "    </tr>\n",
       "    <tr>\n",
       "      <td>80</td>\n",
       "      <td>0.582900</td>\n",
       "    </tr>\n",
       "    <tr>\n",
       "      <td>90</td>\n",
       "      <td>0.616100</td>\n",
       "    </tr>\n",
       "    <tr>\n",
       "      <td>100</td>\n",
       "      <td>0.459000</td>\n",
       "    </tr>\n",
       "    <tr>\n",
       "      <td>110</td>\n",
       "      <td>0.517700</td>\n",
       "    </tr>\n",
       "    <tr>\n",
       "      <td>120</td>\n",
       "      <td>0.390300</td>\n",
       "    </tr>\n",
       "    <tr>\n",
       "      <td>130</td>\n",
       "      <td>0.478200</td>\n",
       "    </tr>\n",
       "    <tr>\n",
       "      <td>140</td>\n",
       "      <td>0.432500</td>\n",
       "    </tr>\n",
       "    <tr>\n",
       "      <td>150</td>\n",
       "      <td>0.534600</td>\n",
       "    </tr>\n",
       "    <tr>\n",
       "      <td>160</td>\n",
       "      <td>0.668200</td>\n",
       "    </tr>\n",
       "    <tr>\n",
       "      <td>170</td>\n",
       "      <td>0.381400</td>\n",
       "    </tr>\n",
       "    <tr>\n",
       "      <td>180</td>\n",
       "      <td>0.229400</td>\n",
       "    </tr>\n",
       "    <tr>\n",
       "      <td>190</td>\n",
       "      <td>0.683300</td>\n",
       "    </tr>\n",
       "    <tr>\n",
       "      <td>200</td>\n",
       "      <td>0.356700</td>\n",
       "    </tr>\n",
       "    <tr>\n",
       "      <td>210</td>\n",
       "      <td>0.593100</td>\n",
       "    </tr>\n",
       "    <tr>\n",
       "      <td>220</td>\n",
       "      <td>0.561700</td>\n",
       "    </tr>\n",
       "    <tr>\n",
       "      <td>230</td>\n",
       "      <td>0.479000</td>\n",
       "    </tr>\n",
       "    <tr>\n",
       "      <td>240</td>\n",
       "      <td>0.462000</td>\n",
       "    </tr>\n",
       "    <tr>\n",
       "      <td>250</td>\n",
       "      <td>0.452400</td>\n",
       "    </tr>\n",
       "    <tr>\n",
       "      <td>260</td>\n",
       "      <td>0.630700</td>\n",
       "    </tr>\n",
       "    <tr>\n",
       "      <td>270</td>\n",
       "      <td>0.654400</td>\n",
       "    </tr>\n",
       "    <tr>\n",
       "      <td>280</td>\n",
       "      <td>0.322800</td>\n",
       "    </tr>\n",
       "    <tr>\n",
       "      <td>290</td>\n",
       "      <td>0.299600</td>\n",
       "    </tr>\n",
       "    <tr>\n",
       "      <td>300</td>\n",
       "      <td>0.589400</td>\n",
       "    </tr>\n",
       "    <tr>\n",
       "      <td>310</td>\n",
       "      <td>0.401600</td>\n",
       "    </tr>\n",
       "    <tr>\n",
       "      <td>320</td>\n",
       "      <td>0.849100</td>\n",
       "    </tr>\n",
       "    <tr>\n",
       "      <td>330</td>\n",
       "      <td>0.594600</td>\n",
       "    </tr>\n",
       "    <tr>\n",
       "      <td>340</td>\n",
       "      <td>0.360300</td>\n",
       "    </tr>\n",
       "    <tr>\n",
       "      <td>350</td>\n",
       "      <td>0.453900</td>\n",
       "    </tr>\n",
       "    <tr>\n",
       "      <td>360</td>\n",
       "      <td>0.579200</td>\n",
       "    </tr>\n",
       "    <tr>\n",
       "      <td>370</td>\n",
       "      <td>0.348600</td>\n",
       "    </tr>\n",
       "    <tr>\n",
       "      <td>380</td>\n",
       "      <td>0.439200</td>\n",
       "    </tr>\n",
       "    <tr>\n",
       "      <td>390</td>\n",
       "      <td>0.678800</td>\n",
       "    </tr>\n",
       "    <tr>\n",
       "      <td>400</td>\n",
       "      <td>0.329600</td>\n",
       "    </tr>\n",
       "    <tr>\n",
       "      <td>410</td>\n",
       "      <td>0.344100</td>\n",
       "    </tr>\n",
       "    <tr>\n",
       "      <td>420</td>\n",
       "      <td>0.520400</td>\n",
       "    </tr>\n",
       "    <tr>\n",
       "      <td>430</td>\n",
       "      <td>0.527300</td>\n",
       "    </tr>\n",
       "    <tr>\n",
       "      <td>440</td>\n",
       "      <td>0.312900</td>\n",
       "    </tr>\n",
       "    <tr>\n",
       "      <td>450</td>\n",
       "      <td>0.327000</td>\n",
       "    </tr>\n",
       "    <tr>\n",
       "      <td>460</td>\n",
       "      <td>0.355000</td>\n",
       "    </tr>\n",
       "    <tr>\n",
       "      <td>470</td>\n",
       "      <td>0.226400</td>\n",
       "    </tr>\n",
       "    <tr>\n",
       "      <td>480</td>\n",
       "      <td>0.524900</td>\n",
       "    </tr>\n",
       "    <tr>\n",
       "      <td>490</td>\n",
       "      <td>0.213900</td>\n",
       "    </tr>\n",
       "    <tr>\n",
       "      <td>500</td>\n",
       "      <td>0.564700</td>\n",
       "    </tr>\n",
       "  </tbody>\n",
       "</table><p>"
      ],
      "text/plain": [
       "<IPython.core.display.HTML object>"
      ]
     },
     "metadata": {},
     "output_type": "display_data"
    },
    {
     "data": {
      "text/plain": [
       "TrainOutput(global_step=500, training_loss=0.5007087564468384, metrics={'train_runtime': 52.7122, 'train_samples_per_second': 37.942, 'train_steps_per_second': 9.485, 'total_flos': 67369703424000.0, 'train_loss': 0.5007087564468384, 'epoch': 1.0})"
      ]
     },
     "execution_count": 20,
     "metadata": {},
     "output_type": "execute_result"
    }
   ],
   "source": [
    "trainer.train()"
   ]
  },
  {
   "cell_type": "code",
   "execution_count": null,
   "metadata": {
    "id": "Rv2hq9IBruZE"
   },
   "outputs": [],
   "source": [
    "def predict(text):\n",
    "    device = torch.device(\"cuda\" if torch.cuda.is_available() else \"cpu\")\n",
    "    model.to(device)\n",
    "    model.eval()\n",
    "\n",
    "    inputs = tokenizer(\n",
    "        text,\n",
    "        return_tensors=\"pt\",\n",
    "        truncation=True,\n",
    "        padding=\"max_length\",\n",
    "        max_length=128\n",
    "    ).to(device)\n",
    "\n",
    "    with torch.no_grad():\n",
    "        outputs = model(**inputs)\n",
    "        logits = outputs.logits\n",
    "        predicted_class = torch.argmax(logits, dim=1).item()\n",
    "\n",
    "    labels = {0: \"Negative\", 1: \"Positive\"}\n",
    "    return labels[predicted_class]\n"
   ]
  },
  {
   "cell_type": "code",
   "execution_count": null,
   "metadata": {
    "colab": {
     "base_uri": "https://localhost:8080/"
    },
    "id": "7GLMwHVlarhT",
    "outputId": "36d93d61-13c2-4ed9-e6da-3f7c73995e09"
   },
   "outputs": [
    {
     "name": "stdout",
     "output_type": "stream",
     "text": [
      "Positive\n",
      "Negative\n",
      "Negative\n",
      "Positive\n",
      "Negative\n",
      "Positive\n"
     ]
    }
   ],
   "source": [
    "print(predict(\"This movie was amazing! I loved every second of it.\"))\n",
    "# ➜ Positive\n",
    "\n",
    "print(predict(\"This movie was a disaster. Total waste of time.\"))\n",
    "# ➜ Negative\n",
    "\n",
    "print(predict(\"it was bullshit.\"))\n",
    "# ➜ Negative\n",
    "\n",
    "print(predict(\"it was cool man.\"))\n",
    "# ➜ Positive\n",
    "\n",
    "print(predict(\"what was that.\"))\n",
    "# ➜ Negative\n",
    "\n",
    "print(predict(\"this is what we call a movie.\"))\n",
    "# ➜ Positive"
   ]
  },
  {
   "cell_type": "code",
   "execution_count": null,
   "metadata": {
    "id": "c65OOnrZavwA"
   },
   "outputs": [],
   "source": []
  }
 ],
 "metadata": {
  "accelerator": "GPU",
  "colab": {
   "gpuType": "T4",
   "provenance": []
  },
  "kernelspec": {
   "display_name": "Python 3",
   "name": "python3"
  },
  "language_info": {
   "name": "python"
  }
 },
 "nbformat": 4,
 "nbformat_minor": 0
}
